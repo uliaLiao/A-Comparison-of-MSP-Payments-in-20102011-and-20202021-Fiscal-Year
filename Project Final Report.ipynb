{
 "cells": [
  {
   "cell_type": "markdown",
   "id": "agreed-enlargement",
   "metadata": {},
   "source": [
    "# A Comparison of MSP Payments in 2010/2011 and 2020/2021 Fiscal Year"
   ]
  },
  {
   "cell_type": "markdown",
   "id": "b7665980-8156-4e0b-8971-0fa100e3fe27",
   "metadata": {},
   "source": [
    "Group members:  Jiaying Liao, Alan Wei, Emma Zhang, Jiawei Huang"
   ]
  },
  {
   "cell_type": "markdown",
   "id": "concerned-cover",
   "metadata": {},
   "source": [
    "## Introduction"
   ]
  },
  {
   "cell_type": "markdown",
   "id": "lovely-coaching",
   "metadata": {},
   "source": [
    "In Canada, public health insurance is available to eligible residents. Canadian citizens and permanent residents can apply for provincial health insurance. In British Columbia, public health insurance is called Medical Services Plan (MSP). It covers the cost of medically-necessary insured doctor services (Ministry of Health, 2021). There are multiple studies regarding medical service plans around the world, but only a few of them are related to British Columbia MSP and some of the studies are even years old. So we want to fill the research gap with these up-to-date data.\n",
    "\n",
    "BC Medical Services Plan's (MSP) annual financial statements include a detailed listing of total annual payments to all practitioners and organizations (Compensation Policy and Programs, 2022). \n",
    "The data is obtained from the BC government website. The first column “Payments to Practitioners” refers to the names of enrolled medical practitioners. The second column “Amount” refers to the amount of money (in CAD) paid by the MSP program. The third column “Fiscal Year” refers to the year of payments. The dataset covers the payments from 2010-11 to 2020-21 (Compensation Policy and Programs, 2022).\n",
    "\n",
    "According to data from the BC government website, the total annual payments to all practitioners and organizations in British Columbia may be increased over the study period. This can be factored into increases attributable to changes in the age structure of the population, general population growth and age-specific increases in per-capita use (Barer et al., 1989). Our objective is to compare the BC Medical Services Plan’s  (MSP) annual financial payment in the 2010/2011 and 2020/2021 Fiscal Years. We will use the median value of the total amount in 2010/11 and 2020/21 to make comparisons. In addition, the confidence interval will provide reliability to the estimation of population medians."
   ]
  },
  {
   "cell_type": "markdown",
   "id": "international-diabetes",
   "metadata": {},
   "source": [
    "## Methods and Results"
   ]
  },
  {
   "cell_type": "markdown",
   "id": "administrative-roommate",
   "metadata": {},
   "source": [
    "Before getting started with our data, we run the next code block to load the packages we need."
   ]
  },
  {
   "cell_type": "code",
   "execution_count": null,
   "id": "polished-kitty",
   "metadata": {
    "scrolled": true,
    "vscode": {
     "languageId": "r"
    }
   },
   "outputs": [],
   "source": [
    "library(cowplot)\n",
    "library(datateachr)\n",
    "library(infer)\n",
    "library(repr)\n",
    "library(tidyverse)\n",
    "library(digest)\n",
    "library(broom)\n",
    "library(digest)"
   ]
  },
  {
   "cell_type": "markdown",
   "id": "differential-analysis",
   "metadata": {},
   "source": [
    "Firstly, we read our data using `read_csv()`. To make sure that our data is tidy, we rename two columnn names before filtering out some rows that are summarizing data."
   ]
  },
  {
   "cell_type": "code",
   "execution_count": 19,
   "id": "alone-nursery",
   "metadata": {
    "vscode": {
     "languageId": "r"
    }
   },
   "outputs": [
    {
     "name": "stderr",
     "output_type": "stream",
     "text": [
      "\u001b[1mRows: \u001b[22m\u001b[34m121282\u001b[39m \u001b[1mColumns: \u001b[22m\u001b[34m3\u001b[39m\n",
      "\n",
      "\u001b[36m──\u001b[39m \u001b[1mColumn specification\u001b[22m \u001b[36m────────────────────────────────────────────────────────\u001b[39m\n",
      "\u001b[1mDelimiter:\u001b[22m \",\"\n",
      "\u001b[31mchr\u001b[39m (2): Payments to Practitioners, Fiscal Year\n",
      "\n",
      "\n",
      "\u001b[36mℹ\u001b[39m Use `spec()` to retrieve the full column specification for this data.\n",
      "\u001b[36mℹ\u001b[39m Specify the column types or set `show_col_types = FALSE` to quiet this message.\n",
      "\n"
     ]
    },
    {
     "data": {
      "text/html": [
       "<table class=\"dataframe\">\n",
       "<caption>A tibble: 6 × 3</caption>\n",
       "<thead>\n",
       "\t<tr><th scope=col>Payments_to_Practitoners</th><th scope=col>Amount</th><th scope=col>Fiscal_Year</th></tr>\n",
       "\t<tr><th scope=col>&lt;chr&gt;</th><th scope=col>&lt;dbl&gt;</th><th scope=col>&lt;chr&gt;</th></tr>\n",
       "</thead>\n",
       "<tbody>\n",
       "\t<tr><td>Aartsma, Durk Pieter     </td><td>265138.74</td><td>2020/2021</td></tr>\n",
       "\t<tr><td>Abayomi, Michael Ayotunde</td><td>557779.95</td><td>2020/2021</td></tr>\n",
       "\t<tr><td>Abbas, Wea'am            </td><td> 95487.34</td><td>2020/2021</td></tr>\n",
       "\t<tr><td>Abbey, Mark Douglas      </td><td> 96681.08</td><td>2020/2021</td></tr>\n",
       "\t<tr><td>Abbott, Breanne          </td><td>352280.26</td><td>2020/2021</td></tr>\n",
       "\t<tr><td>Abbott, Salome           </td><td>166357.84</td><td>2020/2021</td></tr>\n",
       "</tbody>\n",
       "</table>\n"
      ],
      "text/latex": [
       "A tibble: 6 × 3\n",
       "\\begin{tabular}{lll}\n",
       " Payments\\_to\\_Practitoners & Amount & Fiscal\\_Year\\\\\n",
       " <chr> & <dbl> & <chr>\\\\\n",
       "\\hline\n",
       "\t Aartsma, Durk Pieter      & 265138.74 & 2020/2021\\\\\n",
       "\t Abayomi, Michael Ayotunde & 557779.95 & 2020/2021\\\\\n",
       "\t Abbas, Wea'am             &  95487.34 & 2020/2021\\\\\n",
       "\t Abbey, Mark Douglas       &  96681.08 & 2020/2021\\\\\n",
       "\t Abbott, Breanne           & 352280.26 & 2020/2021\\\\\n",
       "\t Abbott, Salome            & 166357.84 & 2020/2021\\\\\n",
       "\\end{tabular}\n"
      ],
      "text/markdown": [
       "\n",
       "A tibble: 6 × 3\n",
       "\n",
       "| Payments_to_Practitoners &lt;chr&gt; | Amount &lt;dbl&gt; | Fiscal_Year &lt;chr&gt; |\n",
       "|---|---|---|\n",
       "| Aartsma, Durk Pieter      | 265138.74 | 2020/2021 |\n",
       "| Abayomi, Michael Ayotunde | 557779.95 | 2020/2021 |\n",
       "| Abbas, Wea'am             |  95487.34 | 2020/2021 |\n",
       "| Abbey, Mark Douglas       |  96681.08 | 2020/2021 |\n",
       "| Abbott, Breanne           | 352280.26 | 2020/2021 |\n",
       "| Abbott, Salome            | 166357.84 | 2020/2021 |\n",
       "\n"
      ],
      "text/plain": [
       "  Payments_to_Practitoners  Amount    Fiscal_Year\n",
       "1 Aartsma, Durk Pieter      265138.74 2020/2021  \n",
       "2 Abayomi, Michael Ayotunde 557779.95 2020/2021  \n",
       "3 Abbas, Wea'am              95487.34 2020/2021  \n",
       "4 Abbey, Mark Douglas        96681.08 2020/2021  \n",
       "5 Abbott, Breanne           352280.26 2020/2021  \n",
       "6 Abbott, Salome            166357.84 2020/2021  "
      ]
     },
     "metadata": {},
     "output_type": "display_data"
    }
   ],
   "source": [
    "msp_data <- read_csv(\"data/msp_data.csv\") %>%\n",
    "    rename(\"Fiscal_Year\" = \"Fiscal Year\", \"Payments_to_Practitoners\" = \"Payments to Practitioners\") %>%\n",
    "    filter(!grepl(\"Total Expenditures|Out of Province Payments|Reciprocal Agreements Recoveries|Under Threshold\", \n",
    "             Payments_to_Practitoners, ignore.case = TRUE))\n",
    "head(msp_data)"
   ]
  },
  {
   "cell_type": "markdown",
   "id": "1556e33a-2179-43cc-9145-a501368f1dff",
   "metadata": {},
   "source": [
    "> Table 1: Overview of data"
   ]
  },
  {
   "cell_type": "markdown",
   "id": "brazilian-chase",
   "metadata": {},
   "source": [
    "Next, since we are evaluating MSP Payments in 2010/2011 and 2020/2021 Fiscal Year, now we will make two subsets of these two years' data with column `Amount` and `Fiscal_Year` respectively using `filter()` and `select()`."
   ]
  },
  {
   "cell_type": "code",
   "execution_count": 20,
   "id": "stylish-peripheral",
   "metadata": {
    "vscode": {
     "languageId": "r"
    }
   },
   "outputs": [
    {
     "data": {
      "text/html": [
       "<table class=\"dataframe\">\n",
       "<caption>A tibble: 6 × 2</caption>\n",
       "<thead>\n",
       "\t<tr><th scope=col>Amount</th><th scope=col>Fiscal_Year</th></tr>\n",
       "\t<tr><th scope=col>&lt;dbl&gt;</th><th scope=col>&lt;chr&gt;</th></tr>\n",
       "</thead>\n",
       "<tbody>\n",
       "\t<tr><td>166795.05</td><td>2010/2011</td></tr>\n",
       "\t<tr><td>158640.24</td><td>2010/2011</td></tr>\n",
       "\t<tr><td>253671.34</td><td>2010/2011</td></tr>\n",
       "\t<tr><td> 39453.09</td><td>2010/2011</td></tr>\n",
       "\t<tr><td>665578.29</td><td>2010/2011</td></tr>\n",
       "\t<tr><td>159894.54</td><td>2010/2011</td></tr>\n",
       "</tbody>\n",
       "</table>\n"
      ],
      "text/latex": [
       "A tibble: 6 × 2\n",
       "\\begin{tabular}{ll}\n",
       " Amount & Fiscal\\_Year\\\\\n",
       " <dbl> & <chr>\\\\\n",
       "\\hline\n",
       "\t 166795.05 & 2010/2011\\\\\n",
       "\t 158640.24 & 2010/2011\\\\\n",
       "\t 253671.34 & 2010/2011\\\\\n",
       "\t  39453.09 & 2010/2011\\\\\n",
       "\t 665578.29 & 2010/2011\\\\\n",
       "\t 159894.54 & 2010/2011\\\\\n",
       "\\end{tabular}\n"
      ],
      "text/markdown": [
       "\n",
       "A tibble: 6 × 2\n",
       "\n",
       "| Amount &lt;dbl&gt; | Fiscal_Year &lt;chr&gt; |\n",
       "|---|---|\n",
       "| 166795.05 | 2010/2011 |\n",
       "| 158640.24 | 2010/2011 |\n",
       "| 253671.34 | 2010/2011 |\n",
       "|  39453.09 | 2010/2011 |\n",
       "| 665578.29 | 2010/2011 |\n",
       "| 159894.54 | 2010/2011 |\n",
       "\n"
      ],
      "text/plain": [
       "  Amount    Fiscal_Year\n",
       "1 166795.05 2010/2011  \n",
       "2 158640.24 2010/2011  \n",
       "3 253671.34 2010/2011  \n",
       "4  39453.09 2010/2011  \n",
       "5 665578.29 2010/2011  \n",
       "6 159894.54 2010/2011  "
      ]
     },
     "metadata": {},
     "output_type": "display_data"
    }
   ],
   "source": [
    "msp_2010 <- msp_data %>% \n",
    "filter(Fiscal_Year == \"2010/2011\") %>% \n",
    "select(Amount, Fiscal_Year) %>%\n",
    "filter(Amount > 0)\n",
    "head(msp_2010)"
   ]
  },
  {
   "cell_type": "markdown",
   "id": "c33ccf60-9f0b-4c33-ab14-654a0c7ab4e8",
   "metadata": {},
   "source": [
    "> Table 2: Overview of data from 2010/2011"
   ]
  },
  {
   "cell_type": "code",
   "execution_count": 21,
   "id": "62ed2ff0-d3f6-490e-bbad-8e7631ede704",
   "metadata": {
    "vscode": {
     "languageId": "r"
    }
   },
   "outputs": [
    {
     "data": {
      "text/html": [
       "<table class=\"dataframe\">\n",
       "<caption>A tibble: 6 × 2</caption>\n",
       "<thead>\n",
       "\t<tr><th scope=col>Amount</th><th scope=col>Fiscal_Year</th></tr>\n",
       "\t<tr><th scope=col>&lt;dbl&gt;</th><th scope=col>&lt;chr&gt;</th></tr>\n",
       "</thead>\n",
       "<tbody>\n",
       "\t<tr><td>265138.74</td><td>2020/2021</td></tr>\n",
       "\t<tr><td>557779.95</td><td>2020/2021</td></tr>\n",
       "\t<tr><td> 95487.34</td><td>2020/2021</td></tr>\n",
       "\t<tr><td> 96681.08</td><td>2020/2021</td></tr>\n",
       "\t<tr><td>352280.26</td><td>2020/2021</td></tr>\n",
       "\t<tr><td>166357.84</td><td>2020/2021</td></tr>\n",
       "</tbody>\n",
       "</table>\n"
      ],
      "text/latex": [
       "A tibble: 6 × 2\n",
       "\\begin{tabular}{ll}\n",
       " Amount & Fiscal\\_Year\\\\\n",
       " <dbl> & <chr>\\\\\n",
       "\\hline\n",
       "\t 265138.74 & 2020/2021\\\\\n",
       "\t 557779.95 & 2020/2021\\\\\n",
       "\t  95487.34 & 2020/2021\\\\\n",
       "\t  96681.08 & 2020/2021\\\\\n",
       "\t 352280.26 & 2020/2021\\\\\n",
       "\t 166357.84 & 2020/2021\\\\\n",
       "\\end{tabular}\n"
      ],
      "text/markdown": [
       "\n",
       "A tibble: 6 × 2\n",
       "\n",
       "| Amount &lt;dbl&gt; | Fiscal_Year &lt;chr&gt; |\n",
       "|---|---|\n",
       "| 265138.74 | 2020/2021 |\n",
       "| 557779.95 | 2020/2021 |\n",
       "|  95487.34 | 2020/2021 |\n",
       "|  96681.08 | 2020/2021 |\n",
       "| 352280.26 | 2020/2021 |\n",
       "| 166357.84 | 2020/2021 |\n",
       "\n"
      ],
      "text/plain": [
       "  Amount    Fiscal_Year\n",
       "1 265138.74 2020/2021  \n",
       "2 557779.95 2020/2021  \n",
       "3  95487.34 2020/2021  \n",
       "4  96681.08 2020/2021  \n",
       "5 352280.26 2020/2021  \n",
       "6 166357.84 2020/2021  "
      ]
     },
     "metadata": {},
     "output_type": "display_data"
    }
   ],
   "source": [
    "msp_2020 <- msp_data %>% \n",
    "filter(Fiscal_Year == \"2020/2021\") %>% \n",
    "select(Amount, Fiscal_Year)%>%\n",
    "filter(Amount > 0)\n",
    "head(msp_2020)"
   ]
  },
  {
   "cell_type": "markdown",
   "id": "bfcc419a-0a91-4ae8-9195-a724e20a28db",
   "metadata": {},
   "source": [
    "> Table 3: Overview of data from 2020/2021"
   ]
  },
  {
   "cell_type": "markdown",
   "id": "three-danger",
   "metadata": {},
   "source": [
    "Then, we make histogram plots of these two subsets. Since we are comparing payments in this project, we will use `scale_x_continuous(labels = scales::dollar_format(), limits = c(0, 1000000)) ` to limit the amount between 0 and 1,000,000."
   ]
  },
  {
   "cell_type": "code",
   "execution_count": 22,
   "id": "different-colonial",
   "metadata": {
    "vscode": {
     "languageId": "r"
    }
   },
   "outputs": [
    {
     "name": "stderr",
     "output_type": "stream",
     "text": [
      "Warning message:\n",
      "“Removed 163 rows containing non-finite values (stat_bin).”\n",
      "Warning message:\n",
      "“Removed 2 rows containing missing values (geom_bar).”\n"
     ]
    },
    {
     "data": {
      "image/png": "[encoded data removed]",
      "text/plain": [
       "plot without title"
      ]
     },
     "metadata": {
      "image/png": {
       "height": 420,
       "width": 420
      }
     },
     "output_type": "display_data"
    }
   ],
   "source": [
    "msp_2010_plot <- msp_2010 %>%\n",
    "ggplot(aes(x = Amount)) + \n",
    "    geom_histogram(binwidth = 10000) +\n",
    "    labs(x = \"MSP annual payments (CAD)\", y = \"Frequency\") +\n",
    "    ggtitle(\"The distribution of annual MSP payments in 2010/2011 fiscal year\") +\n",
    "    scale_x_continuous(labels = scales::dollar_format(), limits = c(0, 1000000)) \n",
    "msp_2010_plot"
   ]
  },
  {
   "cell_type": "markdown",
   "id": "632cefc2-832d-4374-b8c7-d2aef4acc421",
   "metadata": {},
   "source": [
    "> Figure 1: Population distribution of 2010/2011"
   ]
  },
  {
   "cell_type": "code",
   "execution_count": 23,
   "id": "speaking-technical",
   "metadata": {
    "scrolled": true,
    "vscode": {
     "languageId": "r"
    }
   },
   "outputs": [
    {
     "name": "stderr",
     "output_type": "stream",
     "text": [
      "Warning message:\n",
      "“Removed 261 rows containing non-finite values (stat_bin).”\n",
      "Warning message:\n",
      "“Removed 2 rows containing missing values (geom_bar).”\n"
     ]
    },
    {
     "data": {
      "image/png": "[encoded data removed]",
      "text/plain": [
       "plot without title"
      ]
     },
     "metadata": {
      "image/png": {
       "height": 420,
       "width": 420
      }
     },
     "output_type": "display_data"
    }
   ],
   "source": [
    "msp_2020_plot <- msp_2020 %>%\n",
    "ggplot(aes(x = Amount)) + \n",
    "    geom_histogram(binwidth = 10000) +\n",
    "    labs(x = \"MSP annual payments (CAD)\", y = \"Frequency\") +\n",
    "    ggtitle(\"The distribution of annual MSP payments in 2020/2021 fiscal year\") +\n",
    "    scale_x_continuous(labels = scales::dollar_format(), limits = c(0, 1000000)) \n",
    "msp_2020_plot"
   ]
  },
  {
   "cell_type": "markdown",
   "id": "0fef3eac-3294-4974-a706-ed76d0f6b372",
   "metadata": {},
   "source": [
    "> Figure 2: Population distribution of 2020/2021"
   ]
  },
  {
   "cell_type": "markdown",
   "id": "czech-share",
   "metadata": {},
   "source": [
    "To get a better idea of the data, we use `summary()` to get some statistics about these two subsets and and the `median` value to the plots we create above."
   ]
  },
  {
   "cell_type": "code",
   "execution_count": 24,
   "id": "complete-dodge",
   "metadata": {
    "vscode": {
     "languageId": "r"
    }
   },
   "outputs": [
    {
     "data": {
      "text/plain": [
       "     Min.   1st Qu.    Median      Mean   3rd Qu.      Max. \n",
       "    25025    103890    219770    372321    353332 176040137 "
      ]
     },
     "metadata": {},
     "output_type": "display_data"
    }
   ],
   "source": [
    "summary_2010 <- summary(msp_2010$Amount)\n",
    "summary_2010"
   ]
  },
  {
   "cell_type": "code",
   "execution_count": 25,
   "id": "rental-yugoslavia",
   "metadata": {
    "vscode": {
     "languageId": "r"
    }
   },
   "outputs": [
    {
     "data": {
      "text/plain": [
       "     Min.   1st Qu.    Median      Mean   3rd Qu.      Max. \n",
       "    25001     98430    215331    420740    370412 273985446 "
      ]
     },
     "metadata": {},
     "output_type": "display_data"
    }
   ],
   "source": [
    "summary_2020 <- summary(msp_2020$Amount)\n",
    "summary_2020"
   ]
  },
  {
   "cell_type": "markdown",
   "id": "center-graduate",
   "metadata": {},
   "source": [
    "### Feedback From Instructor and Peer Reviews\n",
    "According to the feedback from instructor Anthony Obrzut and student Chris Yiu, we realized our data is skewed and contains a lot of outliers. We adapted the suggestions and decided to calculate median, instead of mean, as the population parameter. Additionally, based on the feedback from Anthony Obrzut, we added the limitation of previous researches to the \"Introduction\" part.\n",
    "\n",
    "We deeply appreciated the feedback!\n",
    "\n",
    "### Expected Outcomes\n",
    "We will compare the bootstrapping and asymptotic method (Central Limit Theorem) using the data from fiscal year 2010/2011. \n",
    "We also want to find out whether the MSP payments to practitioners has changed from 2010/2011 to 2020/2021 by conducting a two-sided hypothesis test. \n",
    "\n",
    "### Impact of Findings\n",
    "We will find out whether the medical practitioners received more or less money from the MSP program. Do they get more paid or less paid from the MSP program during the pandemic? \n",
    "\n",
    "### Future Questions\n",
    "Information from the dataset is quite limited, only with names, payments, and time. Hence, we cannot make further analysis regarding other factors, for example, ages, genders, areas of expertise, etc. \n"
   ]
  },
  {
   "cell_type": "markdown",
   "id": "0a89d226-53b9-4bc8-a3df-da1f5a0e1a41",
   "metadata": {},
   "source": [
    "### Comparing Asymptotic Method and Bootstrapping"
   ]
  },
  {
   "cell_type": "markdown",
   "id": "060ac365-6ec6-4e6f-ae21-11aa5f521f54",
   "metadata": {},
   "source": [
    "Now, we will evaluate the asymptotic method (Central Limit Theorem) and the bootstrapping method to decide which one we are going to adapt in the following steps of our project."
   ]
  },
  {
   "cell_type": "code",
   "execution_count": 26,
   "id": "c3e235a0-4718-4bc5-b40a-49f797bcd9f8",
   "metadata": {
    "vscode": {
     "languageId": "r"
    }
   },
   "outputs": [
    {
     "data": {
      "text/html": [
       "9472"
      ],
      "text/latex": [
       "9472"
      ],
      "text/markdown": [
       "9472"
      ],
      "text/plain": [
       "[1] 9472"
      ]
     },
     "metadata": {},
     "output_type": "display_data"
    }
   ],
   "source": [
    "length(msp_2010$Amount) # this gives the population size\n",
    "pop_median <- median(msp_2010$Amount) # population median"
   ]
  },
  {
   "cell_type": "markdown",
   "id": "8845d72d-6cb6-4c2e-834f-2c8a39f7540f",
   "metadata": {},
   "source": [
    "* We will use the data from 2010/2011 for simplicity.\n",
    "* Since the population is skewed, we will use median as our parameter.\n",
    "* The population size is 9472. In order to use Central Limit Theorem, the sample size will be approximately 10% of the population, which is 1000. For simplicity and uniformity, all samples in this study will have size 1000.\n",
    "* We will construct the 90% confidence intervals of estimated population medians for each method. Then we will calculate the confidence interval capture rates of the true population median for asymptotic method and bootstrapping. By comparing two capture rates, we can figure out which method is better. "
   ]
  },
  {
   "cell_type": "markdown",
   "id": "a6b660ac-556f-47ed-a2a5-dd9eb2d1983d",
   "metadata": {},
   "source": [
    "#### Asymptotic Method: Central Limit Theorem"
   ]
  },
  {
   "cell_type": "markdown",
   "id": "9549fa2e-4b69-49c7-b360-958f4ba6a57f",
   "metadata": {},
   "source": [
    "By looking at the population histograms above, it's clear that the population distribution is skewed, but the sampling distribution of medians will be theoretically normal according to Central Limit Theorem.\n",
    "\n",
    "Since the sample size is approximately 10% of the population and all samples are taken in an independent and random fashion. We are able to apply Central Limit Theorem."
   ]
  },
  {
   "cell_type": "code",
   "execution_count": 27,
   "id": "8b8e8d97-8e38-4018-9b7c-dccee27d8bb0",
   "metadata": {
    "vscode": {
     "languageId": "r"
    }
   },
   "outputs": [],
   "source": [
    "set.seed(666)\n",
    "\n",
    "#We take 1000 simple random sample from the population\n",
    "samples_msp_2010 <- \n",
    "    msp_2010 %>% \n",
    "    rep_sample_n(size = 1000, reps = 1000, replace = FALSE)"
   ]
  },
  {
   "cell_type": "code",
   "execution_count": 28,
   "id": "7685851c-294d-4a3a-ab56-28b3a1da0a33",
   "metadata": {
    "vscode": {
     "languageId": "r"
    }
   },
   "outputs": [
    {
     "data": {
      "text/html": [
       "<table class=\"dataframe\">\n",
       "<caption>A tibble: 6 × 6</caption>\n",
       "<thead>\n",
       "\t<tr><th scope=col>replicate</th><th scope=col>sample_median</th><th scope=col>sample_sd</th><th scope=col>lower_bound</th><th scope=col>upper_bound</th><th scope=col>captured</th></tr>\n",
       "\t<tr><th scope=col>&lt;int&gt;</th><th scope=col>&lt;dbl&gt;</th><th scope=col>&lt;dbl&gt;</th><th scope=col>&lt;dbl&gt;</th><th scope=col>&lt;dbl&gt;</th><th scope=col>&lt;lgl&gt;</th></tr>\n",
       "</thead>\n",
       "<tbody>\n",
       "\t<tr><td>1</td><td>219769.4</td><td> 340203.5</td><td> 202073.81</td><td>237465.1</td><td>TRUE</td></tr>\n",
       "\t<tr><td>2</td><td>212649.6</td><td>1252444.4</td><td> 147503.94</td><td>277795.3</td><td>TRUE</td></tr>\n",
       "\t<tr><td>3</td><td>222099.5</td><td>6336124.0</td><td>-107472.93</td><td>551672.0</td><td>TRUE</td></tr>\n",
       "\t<tr><td>4</td><td>222591.6</td><td> 530284.4</td><td> 195008.97</td><td>250174.3</td><td>TRUE</td></tr>\n",
       "\t<tr><td>5</td><td>218753.8</td><td>5584743.5</td><td> -71735.74</td><td>509243.3</td><td>TRUE</td></tr>\n",
       "\t<tr><td>6</td><td>213494.1</td><td>1320137.5</td><td> 144827.35</td><td>282160.8</td><td>TRUE</td></tr>\n",
       "</tbody>\n",
       "</table>\n"
      ],
      "text/latex": [
       "A tibble: 6 × 6\n",
       "\\begin{tabular}{llllll}\n",
       " replicate & sample\\_median & sample\\_sd & lower\\_bound & upper\\_bound & captured\\\\\n",
       " <int> & <dbl> & <dbl> & <dbl> & <dbl> & <lgl>\\\\\n",
       "\\hline\n",
       "\t 1 & 219769.4 &  340203.5 &  202073.81 & 237465.1 & TRUE\\\\\n",
       "\t 2 & 212649.6 & 1252444.4 &  147503.94 & 277795.3 & TRUE\\\\\n",
       "\t 3 & 222099.5 & 6336124.0 & -107472.93 & 551672.0 & TRUE\\\\\n",
       "\t 4 & 222591.6 &  530284.4 &  195008.97 & 250174.3 & TRUE\\\\\n",
       "\t 5 & 218753.8 & 5584743.5 &  -71735.74 & 509243.3 & TRUE\\\\\n",
       "\t 6 & 213494.1 & 1320137.5 &  144827.35 & 282160.8 & TRUE\\\\\n",
       "\\end{tabular}\n"
      ],
      "text/markdown": [
       "\n",
       "A tibble: 6 × 6\n",
       "\n",
       "| replicate &lt;int&gt; | sample_median &lt;dbl&gt; | sample_sd &lt;dbl&gt; | lower_bound &lt;dbl&gt; | upper_bound &lt;dbl&gt; | captured &lt;lgl&gt; |\n",
       "|---|---|---|---|---|---|\n",
       "| 1 | 219769.4 |  340203.5 |  202073.81 | 237465.1 | TRUE |\n",
       "| 2 | 212649.6 | 1252444.4 |  147503.94 | 277795.3 | TRUE |\n",
       "| 3 | 222099.5 | 6336124.0 | -107472.93 | 551672.0 | TRUE |\n",
       "| 4 | 222591.6 |  530284.4 |  195008.97 | 250174.3 | TRUE |\n",
       "| 5 | 218753.8 | 5584743.5 |  -71735.74 | 509243.3 | TRUE |\n",
       "| 6 | 213494.1 | 1320137.5 |  144827.35 | 282160.8 | TRUE |\n",
       "\n"
      ],
      "text/plain": [
       "  replicate sample_median sample_sd lower_bound upper_bound captured\n",
       "1 1         219769.4       340203.5  202073.81  237465.1    TRUE    \n",
       "2 2         212649.6      1252444.4  147503.94  277795.3    TRUE    \n",
       "3 3         222099.5      6336124.0 -107472.93  551672.0    TRUE    \n",
       "4 4         222591.6       530284.4  195008.97  250174.3    TRUE    \n",
       "5 5         218753.8      5584743.5  -71735.74  509243.3    TRUE    \n",
       "6 6         213494.1      1320137.5  144827.35  282160.8    TRUE    "
      ]
     },
     "metadata": {},
     "output_type": "display_data"
    },
    {
     "data": {
      "text/html": [
       "0.997"
      ],
      "text/latex": [
       "0.997"
      ],
      "text/markdown": [
       "0.997"
      ],
      "text/plain": [
       "[1] 0.997"
      ]
     },
     "metadata": {},
     "output_type": "display_data"
    }
   ],
   "source": [
    "#Summarize the information of samples:\n",
    "samples_summary_2010 <-\n",
    "    samples_msp_2010 %>% \n",
    "    group_by(replicate) %>% \n",
    "    summarise(sample_median = median(Amount),\n",
    "              sample_sd = sd(Amount),\n",
    "              lower_bound = sample_median-qnorm(0.95,lower.tail = TRUE)*sample_sd/sqrt(1000),\n",
    "              upper_bound = sample_median+qnorm(0.95,lower.tail = TRUE)*sample_sd/sqrt(1000),\n",
    "              captured = (lower_bound <= pop_median & pop_median <= upper_bound), `.groups` = \"drop\")\n",
    "head(samples_summary_2010)\n",
    "\n",
    "# calculate the proportion of coverage (CLT)\n",
    "mean(samples_summary_2010$captured)\n"
   ]
  },
  {
   "cell_type": "markdown",
   "id": "aa53e12c-7deb-4a00-8f30-3ecf9612500a",
   "metadata": {},
   "source": [
    "> Table 4: Summary of data from 2010/2011 (CLT)"
   ]
  },
  {
   "cell_type": "markdown",
   "id": "d20a3e40-7b00-4bde-8b71-5444e7a04b12",
   "metadata": {},
   "source": [
    "We summarized the information of the sample. We obtained the following statistics:\n",
    "- sample median: sample_median\n",
    "- sample standard deviation: sample_sd\n",
    "- lower bound of confidence interval: lower_bound\n",
    "- upper bound of confidence interval: upper_bound\n",
    "- whether the confidence interval captured the true value: captured\n",
    "The result shows that the proportion of capture rate using CLT is 99.7%."
   ]
  },
  {
   "cell_type": "code",
   "execution_count": 29,
   "id": "565c4a05-2620-4afc-8fa5-fc0f864f2605",
   "metadata": {
    "vscode": {
     "languageId": "r"
    }
   },
   "outputs": [
    {
     "name": "stderr",
     "output_type": "stream",
     "text": [
      "`stat_bin()` using `bins = 30`. Pick better value with `binwidth`.\n",
      "\n"
     ]
    },
    {
     "data": {
      "image/png": "[encoded data removed]",
      "text/plain": [
       "plot without title"
      ]
     },
     "metadata": {
      "image/png": {
       "height": 420,
       "width": 420
      }
     },
     "output_type": "display_data"
    }
   ],
   "source": [
    "#visualize the sampling distribution of median \n",
    "sampling_dist_msp_median_2010 <-\n",
    "    samples_summary_2010 %>% \n",
    "    ggplot() + \n",
    "    geom_histogram(aes(x = sample_median), color=\"white\") +\n",
    "    theme(text = element_text(size = 12))+\n",
    "    xlab(\"Sample median\") +\n",
    "    ylab(\"Frequency\") +\n",
    "    ggtitle(\"Sampling distribution of sample median from 2010/2011 MSP data\") \n",
    "sampling_dist_msp_median_2010"
   ]
  },
  {
   "cell_type": "markdown",
   "id": "a61a0945-3268-4d9a-be22-d51094bdeb2f",
   "metadata": {},
   "source": [
    "> Figure 3: Sampling distribution of 2010/2011"
   ]
  },
  {
   "cell_type": "markdown",
   "id": "954724ae-bc98-4e35-87f6-5244b51ec163",
   "metadata": {},
   "source": [
    "We visualized the sampling distribution of median. The Central Limit Theorem implies that if we are summing up a very large number of random terms, the distribution of this sum is approximately Normal. In this case, CLT is applicable in our study. Using a sample size large enough, it shows that the sampling distribution of the sample will be approximately normal, regardless of the population distribution."
   ]
  },
  {
   "cell_type": "code",
   "execution_count": 30,
   "id": "fead0098-a3db-49a5-8289-fd09c89544dd",
   "metadata": {
    "vscode": {
     "languageId": "r"
    }
   },
   "outputs": [
    {
     "data": {
      "image/png": "[encoded data removed]",
      "text/plain": [
       "plot without title"
      ]
     },
     "metadata": {
      "image/png": {
       "height": 420,
       "width": 420
      }
     },
     "output_type": "display_data"
    }
   ],
   "source": [
    "#visualize the coverage of confidence interval (CLT)\n",
    "many_ci_plot_clt <- \n",
    "    samples_summary_2010 %>%\n",
    "    ggplot() +\n",
    "    scale_colour_manual(breaks = c(\"TRUE\", \"FALSE\"), \n",
    "                        values = c(\"grey\", \"black\")) +\n",
    "    geom_segment(aes(x = lower_bound,\n",
    "                     xend = upper_bound,\n",
    "                     y = replicate,\n",
    "                     yend = replicate,\n",
    "                     colour = captured)) +\n",
    "    geom_vline(xintercept = pop_median, colour = \"red\", size = 1) +\n",
    "    labs(title = \"1000 90% Confidence Intervals (CLT)\",\n",
    "         x = \"Median of msp payments\",\n",
    "         y = \"Sample ID\",\n",
    "         colour = \"Captured?\") +\n",
    "    theme_bw() \n",
    "many_ci_plot_clt"
   ]
  },
  {
   "cell_type": "markdown",
   "id": "c8ef319f-e3c1-430a-ac55-e98df3e640df",
   "metadata": {},
   "source": [
    "> Figure 4: 1000 percentile-based 90% confidence intervals for median (CLT)"
   ]
  },
  {
   "cell_type": "markdown",
   "id": "2fcf02cb-70aa-4853-a5fb-60741c467fbd",
   "metadata": {},
   "source": [
    "According to `Figure 4`, we know that almost all of the intervals capture the true population median, which indicates that the Central Limit Theorem is a reasonable method."
   ]
  },
  {
   "cell_type": "markdown",
   "id": "cb0ef411-40bc-485a-a385-0fca1c7522d0",
   "metadata": {},
   "source": [
    "#### Bootstrapping"
   ]
  },
  {
   "cell_type": "markdown",
   "id": "09b4c1b3-f68b-40cc-ad6f-e0c0541ab0a0",
   "metadata": {},
   "source": [
    "In this section, we will perform bootstrapping to estimate the population median. By definition, we first take a simple random sample of size 1000 from the population, and then take 1000 bootstrap samples by sampling with replacement. After that, we will calculate the sample median and then construct the confidence intervals for all bootstrap samples. Same as the CLT section, we will calculate the capture rate of the true population median.\n"
   ]
  },
  {
   "cell_type": "code",
   "execution_count": 31,
   "id": "0a74161a-95bf-4450-9465-4ea694759d8d",
   "metadata": {
    "vscode": {
     "languageId": "r"
    }
   },
   "outputs": [
    {
     "data": {
      "text/html": [
       "<table class=\"dataframe\">\n",
       "<caption>A tibble: 6 × 6</caption>\n",
       "<thead>\n",
       "\t<tr><th scope=col>replicate</th><th scope=col>bootstrap_median</th><th scope=col>bootstrap_sd</th><th scope=col>ci_lower</th><th scope=col>ci_upper</th><th scope=col>captured</th></tr>\n",
       "\t<tr><th scope=col>&lt;int&gt;</th><th scope=col>&lt;dbl&gt;</th><th scope=col>&lt;dbl&gt;</th><th scope=col>&lt;dbl&gt;</th><th scope=col>&lt;dbl&gt;</th><th scope=col>&lt;lgl&gt;</th></tr>\n",
       "</thead>\n",
       "<tbody>\n",
       "\t<tr><td>1</td><td>213591.9</td><td>211504.6</td><td>202590.6</td><td>224593.3</td><td> TRUE</td></tr>\n",
       "\t<tr><td>2</td><td>222325.1</td><td>339139.8</td><td>204684.8</td><td>239965.4</td><td> TRUE</td></tr>\n",
       "\t<tr><td>3</td><td>211646.0</td><td>407191.3</td><td>190466.0</td><td>232826.0</td><td> TRUE</td></tr>\n",
       "\t<tr><td>4</td><td>225719.4</td><td>466044.4</td><td>201478.2</td><td>249960.7</td><td> TRUE</td></tr>\n",
       "\t<tr><td>5</td><td>205450.1</td><td>234122.2</td><td>193272.2</td><td>217627.9</td><td>FALSE</td></tr>\n",
       "\t<tr><td>6</td><td>227333.0</td><td>455357.4</td><td>203647.7</td><td>251018.3</td><td> TRUE</td></tr>\n",
       "</tbody>\n",
       "</table>\n"
      ],
      "text/latex": [
       "A tibble: 6 × 6\n",
       "\\begin{tabular}{llllll}\n",
       " replicate & bootstrap\\_median & bootstrap\\_sd & ci\\_lower & ci\\_upper & captured\\\\\n",
       " <int> & <dbl> & <dbl> & <dbl> & <dbl> & <lgl>\\\\\n",
       "\\hline\n",
       "\t 1 & 213591.9 & 211504.6 & 202590.6 & 224593.3 &  TRUE\\\\\n",
       "\t 2 & 222325.1 & 339139.8 & 204684.8 & 239965.4 &  TRUE\\\\\n",
       "\t 3 & 211646.0 & 407191.3 & 190466.0 & 232826.0 &  TRUE\\\\\n",
       "\t 4 & 225719.4 & 466044.4 & 201478.2 & 249960.7 &  TRUE\\\\\n",
       "\t 5 & 205450.1 & 234122.2 & 193272.2 & 217627.9 & FALSE\\\\\n",
       "\t 6 & 227333.0 & 455357.4 & 203647.7 & 251018.3 &  TRUE\\\\\n",
       "\\end{tabular}\n"
      ],
      "text/markdown": [
       "\n",
       "A tibble: 6 × 6\n",
       "\n",
       "| replicate &lt;int&gt; | bootstrap_median &lt;dbl&gt; | bootstrap_sd &lt;dbl&gt; | ci_lower &lt;dbl&gt; | ci_upper &lt;dbl&gt; | captured &lt;lgl&gt; |\n",
       "|---|---|---|---|---|---|\n",
       "| 1 | 213591.9 | 211504.6 | 202590.6 | 224593.3 |  TRUE |\n",
       "| 2 | 222325.1 | 339139.8 | 204684.8 | 239965.4 |  TRUE |\n",
       "| 3 | 211646.0 | 407191.3 | 190466.0 | 232826.0 |  TRUE |\n",
       "| 4 | 225719.4 | 466044.4 | 201478.2 | 249960.7 |  TRUE |\n",
       "| 5 | 205450.1 | 234122.2 | 193272.2 | 217627.9 | FALSE |\n",
       "| 6 | 227333.0 | 455357.4 | 203647.7 | 251018.3 |  TRUE |\n",
       "\n"
      ],
      "text/plain": [
       "  replicate bootstrap_median bootstrap_sd ci_lower ci_upper captured\n",
       "1 1         213591.9         211504.6     202590.6 224593.3  TRUE   \n",
       "2 2         222325.1         339139.8     204684.8 239965.4  TRUE   \n",
       "3 3         211646.0         407191.3     190466.0 232826.0  TRUE   \n",
       "4 4         225719.4         466044.4     201478.2 249960.7  TRUE   \n",
       "5 5         205450.1         234122.2     193272.2 217627.9 FALSE   \n",
       "6 6         227333.0         455357.4     203647.7 251018.3  TRUE   "
      ]
     },
     "metadata": {},
     "output_type": "display_data"
    },
    {
     "data": {
      "text/html": [
       "0.944"
      ],
      "text/latex": [
       "0.944"
      ],
      "text/markdown": [
       "0.944"
      ],
      "text/plain": [
       "[1] 0.944"
      ]
     },
     "metadata": {},
     "output_type": "display_data"
    }
   ],
   "source": [
    "set.seed(666)\n",
    "\n",
    "## take one sample from population \n",
    "msp_2010_sample <- msp_2010 %>%\n",
    "rep_sample_n(size = 1000, replace = FALSE)\n",
    "\n",
    "## find the sample's bootstrap\n",
    "msp_2010_bootstrap <- msp_2010_sample %>%\n",
    "rep_sample_n (size = 1000, reps = 1000, replace = TRUE) \n",
    "\n",
    "#summarize the bootstrap samples information\n",
    "bootstrap_samples_summary <- \n",
    "    msp_2010_bootstrap %>% \n",
    "    group_by (replicate) %>%\n",
    "    summarize(bootstrap_median= median (Amount),\n",
    "              bootstrap_sd = sd(Amount),\n",
    "              ci_lower = bootstrap_median - qnorm(0.95,lower.tail = TRUE)*bootstrap_sd/sqrt(1000),\n",
    "              ci_upper = bootstrap_median + qnorm(0.95,lower.tail = TRUE)*bootstrap_sd/sqrt(1000),\n",
    "             captured = (ci_lower <= pop_median & pop_median <= ci_upper))\n",
    "\n",
    "head(bootstrap_samples_summary)\n",
    "\n",
    "#calculate the proportion of coverage\n",
    "mean(bootstrap_samples_summary$captured)"
   ]
  },
  {
   "cell_type": "markdown",
   "id": "0cdd02f7-f78b-4683-9eeb-85bd2f2a1438",
   "metadata": {},
   "source": [
    "> Table 5: Summary of data from 2010/2011 (bootstrapping)"
   ]
  },
  {
   "cell_type": "markdown",
   "id": "e2d17357-48cb-4fb5-ba54-cf31302c94e7",
   "metadata": {},
   "source": [
    "We summarized the information of the sample. We obtained the following statistics:\n",
    "- sample median: bootstrap_median\n",
    "- sample standard deviation: bootstrap_sd\n",
    "- lower bound of confidence interval: ci_lower\n",
    "- upper bound of confidence interval: ci_upper\n",
    "- whether the confidence interval captured the true value: captured\n",
    "\n",
    "\n",
    "The result shows that the proportion of capture rate using Bootstrapping is 94.4%."
   ]
  },
  {
   "cell_type": "code",
   "execution_count": 32,
   "id": "384f0e76-17ac-4ff8-b38d-6a73d3cff2ef",
   "metadata": {
    "vscode": {
     "languageId": "r"
    }
   },
   "outputs": [
    {
     "name": "stderr",
     "output_type": "stream",
     "text": [
      "`stat_bin()` using `bins = 30`. Pick better value with `binwidth`.\n",
      "\n"
     ]
    },
    {
     "data": {
      "image/png": "[encoded data removed]",
      "text/plain": [
       "plot without title"
      ]
     },
     "metadata": {
      "image/png": {
       "height": 420,
       "width": 420
      }
     },
     "output_type": "display_data"
    }
   ],
   "source": [
    "#visualize the distribution of the means of bootstrap samples\n",
    "\n",
    "bootstrap_sample_dist_msp_median_2010 <-\n",
    "    bootstrap_samples_summary %>% \n",
    "    ggplot() + \n",
    "    geom_histogram(aes(x = bootstrap_median), color=\"white\") +\n",
    "    theme(text = element_text(size = 12))+\n",
    "    xlab(\"Sample median\") +\n",
    "    ylab(\"Frequency\") +\n",
    "    ggtitle(\"Bootstrap sampling distribution of sample median from 2010/2011 MSP data\") \n",
    "bootstrap_sample_dist_msp_median_2010"
   ]
  },
  {
   "cell_type": "markdown",
   "id": "f1a942a6-42cc-452d-af00-2d700ad1a691",
   "metadata": {},
   "source": [
    "> Figure 5: Bootstrap sampling distribution of 2010/2011"
   ]
  },
  {
   "cell_type": "markdown",
   "id": "223ca1e3-5423-4dbd-9b33-ec01952910ad",
   "metadata": {},
   "source": [
    "Above is the distribution of medians of bootstrap samples. The mean of medians is centered, but it does not have a smooth bell shape. It is because of the randomness when picking the simple random sample from population."
   ]
  },
  {
   "cell_type": "code",
   "execution_count": 33,
   "id": "695395cd-53fa-45db-81ef-bd3ffeec9778",
   "metadata": {
    "vscode": {
     "languageId": "r"
    }
   },
   "outputs": [
    {
     "data": {
      "image/png": "[encoded data removed]",
      "text/plain": [
       "plot without title"
      ]
     },
     "metadata": {
      "image/png": {
       "height": 420,
       "width": 420
      }
     },
     "output_type": "display_data"
    }
   ],
   "source": [
    "#visualize the coverage of confidence interval (Bootstrapping)\n",
    "\n",
    "many_ci_plot_bootstrap <- \n",
    "    bootstrap_samples_summary %>%\n",
    "    ggplot() +\n",
    "    scale_colour_manual(breaks = c(\"TRUE\", \"FALSE\"), \n",
    "                        values = c(\"grey\", \"black\")) +\n",
    "    geom_segment(aes(x = ci_lower,\n",
    "                     xend = ci_upper,\n",
    "                     y = replicate,\n",
    "                     yend = replicate,\n",
    "                     colour = captured)) +\n",
    "    geom_vline(xintercept = pop_median, colour = \"red\", size = 1) +\n",
    "    labs(title = \"1000 90% Confidence Intervals (Bootstrapping)\",\n",
    "         y = \"Sample ID\",\n",
    "         colour = \"Captured?\") +\n",
    "    theme_bw() \n",
    "many_ci_plot_bootstrap"
   ]
  },
  {
   "cell_type": "markdown",
   "id": "41c0b771-2338-4510-bd8a-c36944ef4205",
   "metadata": {},
   "source": [
    "> Figure 6: 1000 percentile-based 90% confidence intervals for median (bootstrapping)"
   ]
  },
  {
   "cell_type": "markdown",
   "id": "e4683896-09b0-4295-9c54-7fe98c7f1786",
   "metadata": {},
   "source": [
    "According to `Figure 6`, most of the lines are gray, which implies that most of the confidence intervals captured the true median. So the bootstrapping method is a reasonable choice."
   ]
  },
  {
   "cell_type": "markdown",
   "id": "aecc8cea-eac1-4265-874c-c4f33bb2b967",
   "metadata": {},
   "source": [
    "### Hypothesis Test\n",
    "* H0: the median of 2010/2011 msp amounts is the same as the median of 2020/2021 msp amounts\n",
    "* HA: the median of 2010/2011 msp amounts is different from the median of 2020/2021 msp amounts\n",
    "* We use alpha = 0.1 (90% confidence interval)\n",
    "* Estimate the population parameters by bootstrapping, and then construct 90% confidence intervals respectively. Finally, we will see whether two confidence intervals overlap.\n",
    "* Note: After the comparison between CLT and bootstrapping, we decide to use bootstrapping since both methods are similarly accurate (high capture rates). But in reality, it is unrealistic to construct the actual sampling distribution. It is more common to use bootstrapping."
   ]
  },
  {
   "cell_type": "code",
   "execution_count": 36,
   "id": "24e2fb5a-b794-42d1-b7f6-a7b89a5573d4",
   "metadata": {
    "vscode": {
     "languageId": "r"
    }
   },
   "outputs": [
    {
     "data": {
      "text/html": [
       "<table class=\"dataframe\">\n",
       "<caption>A tibble: 1 × 6</caption>\n",
       "<thead>\n",
       "\t<tr><th scope=col>Fiscal_Year</th><th scope=col>mean</th><th scope=col>sd</th><th scope=col>n</th><th scope=col>upper</th><th scope=col>lower</th></tr>\n",
       "\t<tr><th scope=col>&lt;chr&gt;</th><th scope=col>&lt;dbl&gt;</th><th scope=col>&lt;dbl&gt;</th><th scope=col>&lt;int&gt;</th><th scope=col>&lt;dbl&gt;</th><th scope=col>&lt;dbl&gt;</th></tr>\n",
       "</thead>\n",
       "<tbody>\n",
       "\t<tr><td>2010/2011</td><td>218309.1</td><td>8251.955</td><td>1000</td><td>218738.3</td><td>217879.8</td></tr>\n",
       "</tbody>\n",
       "</table>\n"
      ],
      "text/latex": [
       "A tibble: 1 × 6\n",
       "\\begin{tabular}{llllll}\n",
       " Fiscal\\_Year & mean & sd & n & upper & lower\\\\\n",
       " <chr> & <dbl> & <dbl> & <int> & <dbl> & <dbl>\\\\\n",
       "\\hline\n",
       "\t 2010/2011 & 218309.1 & 8251.955 & 1000 & 218738.3 & 217879.8\\\\\n",
       "\\end{tabular}\n"
      ],
      "text/markdown": [
       "\n",
       "A tibble: 1 × 6\n",
       "\n",
       "| Fiscal_Year &lt;chr&gt; | mean &lt;dbl&gt; | sd &lt;dbl&gt; | n &lt;int&gt; | upper &lt;dbl&gt; | lower &lt;dbl&gt; |\n",
       "|---|---|---|---|---|---|\n",
       "| 2010/2011 | 218309.1 | 8251.955 | 1000 | 218738.3 | 217879.8 |\n",
       "\n"
      ],
      "text/plain": [
       "  Fiscal_Year mean     sd       n    upper    lower   \n",
       "1 2010/2011   218309.1 8251.955 1000 218738.3 217879.8"
      ]
     },
     "metadata": {},
     "output_type": "display_data"
    }
   ],
   "source": [
    "set.seed(666)\n",
    "\n",
    "#2010\n",
    "## We obtained the single random sample \"msp_2010_sample\" from the \"Bootstrapping\" session\n",
    "## find the sample's bootstrap\n",
    "msp_2010_bootstrap_samples <- msp_2010_sample %>%\n",
    "rep_sample_n (size = 1000, reps = 1000, replace = TRUE) %>%\n",
    "group_by(replicate)%>%\n",
    "summarize(sample_median = median(Amount),Fiscal_Year = \"2010/2011\")\n",
    "\n",
    "#2020\n",
    "## take one sample from population   \n",
    "msp_2020_sample <- msp_2020 %>%\n",
    "rep_sample_n(size = 1000, replace = FALSE)\n",
    "\n",
    "## find the sample's bootstrap\n",
    "msp_2020_bootstrap_samples <- msp_2020_sample %>%\n",
    "rep_sample_n (size = 1000, reps = 1000, replace = TRUE) %>%\n",
    "group_by(replicate)%>%\n",
    "summarize(sample_median = median(Amount),Fiscal_Year = \"2020/2021\")\n",
    "\n",
    "#summarize the bootstrap samples, we want to compare the coverage of two confidence intervals\n",
    "msp_2010_summary <- msp_2010_bootstrap_samples%>%\n",
    "                group_by(Fiscal_Year) %>%\n",
    "                summarise(mean= mean(sample_median),\n",
    "                          sd = sd(sample_median),\n",
    "                         n = n(),\n",
    "                         upper = mean+qnorm(0.95)*sd/sqrt(n),\n",
    "                         lower = mean-qnorm(0.95)*sd/sqrt(n))\n",
    "\n",
    "msp_2020_summary <- msp_2020_bootstrap_samples%>%\n",
    "                group_by(Fiscal_Year) %>%\n",
    "                summarise(mean= mean(sample_median),\n",
    "                          sd = sd(sample_median),\n",
    "                         n = n(),\n",
    "                         upper = mean+qnorm(0.95)*sd/sqrt(n),\n",
    "                         lower = mean-qnorm(0.95)*sd/sqrt(n))\n",
    "\n",
    "msp_2010_summary"
   ]
  },
  {
   "cell_type": "markdown",
   "id": "e7372909-e8e5-43ef-8b45-7ca7bad1f279",
   "metadata": {},
   "source": [
    "> Table 6: Summary of bootstrap samples from 2010/2011 data"
   ]
  },
  {
   "cell_type": "code",
   "execution_count": 37,
   "id": "f22fa2c1-97da-4d8b-8771-681daac59142",
   "metadata": {
    "vscode": {
     "languageId": "r"
    }
   },
   "outputs": [
    {
     "data": {
      "text/html": [
       "<table class=\"dataframe\">\n",
       "<caption>A tibble: 1 × 6</caption>\n",
       "<thead>\n",
       "\t<tr><th scope=col>Fiscal_Year</th><th scope=col>mean</th><th scope=col>sd</th><th scope=col>n</th><th scope=col>upper</th><th scope=col>lower</th></tr>\n",
       "\t<tr><th scope=col>&lt;chr&gt;</th><th scope=col>&lt;dbl&gt;</th><th scope=col>&lt;dbl&gt;</th><th scope=col>&lt;int&gt;</th><th scope=col>&lt;dbl&gt;</th><th scope=col>&lt;dbl&gt;</th></tr>\n",
       "</thead>\n",
       "<tbody>\n",
       "\t<tr><td>2020/2021</td><td>208488.1</td><td>10551.59</td><td>1000</td><td>209037</td><td>207939.3</td></tr>\n",
       "</tbody>\n",
       "</table>\n"
      ],
      "text/latex": [
       "A tibble: 1 × 6\n",
       "\\begin{tabular}{llllll}\n",
       " Fiscal\\_Year & mean & sd & n & upper & lower\\\\\n",
       " <chr> & <dbl> & <dbl> & <int> & <dbl> & <dbl>\\\\\n",
       "\\hline\n",
       "\t 2020/2021 & 208488.1 & 10551.59 & 1000 & 209037 & 207939.3\\\\\n",
       "\\end{tabular}\n"
      ],
      "text/markdown": [
       "\n",
       "A tibble: 1 × 6\n",
       "\n",
       "| Fiscal_Year &lt;chr&gt; | mean &lt;dbl&gt; | sd &lt;dbl&gt; | n &lt;int&gt; | upper &lt;dbl&gt; | lower &lt;dbl&gt; |\n",
       "|---|---|---|---|---|---|\n",
       "| 2020/2021 | 208488.1 | 10551.59 | 1000 | 209037 | 207939.3 |\n",
       "\n"
      ],
      "text/plain": [
       "  Fiscal_Year mean     sd       n    upper  lower   \n",
       "1 2020/2021   208488.1 10551.59 1000 209037 207939.3"
      ]
     },
     "metadata": {},
     "output_type": "display_data"
    }
   ],
   "source": [
    "msp_2020_summary"
   ]
  },
  {
   "cell_type": "markdown",
   "id": "0d41b1c2-d383-4b8e-b474-452703505104",
   "metadata": {},
   "source": [
    "> Table 7: Summary of bootstrap samples from 2020/2021 data"
   ]
  },
  {
   "cell_type": "markdown",
   "id": "ae07fae8-796f-48e1-bae3-4f959bb06835",
   "metadata": {},
   "source": [
    "Summary of 2010/2011 and 2020/2022 bootstrap samples:\n",
    "- Mean of medians: mean\n",
    "- Standard deviation of medians: sd\n",
    "- Bootstrap size: n\n",
    "- Upper bound of 90% CI: upper\n",
    "- Lower bound of 90% CI: lower\n",
    "\n",
    "Hence, we extract the following information for comparison:\n",
    "- 90% confidence interval for 2010/2011: (217879.8, 218738.3) from `Table 6`\n",
    "- 90% confidence interval for 2020/2021: (207939.3, 209037) from `Table 7`\n",
    "\n",
    "Two intervals are very close but they do not overlap."
   ]
  },
  {
   "cell_type": "markdown",
   "id": "001db143-d0b1-4e81-8980-26a390b8d7c1",
   "metadata": {},
   "source": [
    "## Discussion\n",
    "\n",
    "In this project, firstly, on the premise that the medical recourse is highly valued in our society, we chose to study the data of MSP payments to practitioners and organizations for the recent 10 years. In order to make our study more concise and intuitive, we picked the data from 2010/2011 and 2020/2021 to conduct the research. Since the data came from the census, it was reasonable to consider the dataset is the population.\n",
    "\n",
    "Secondly, we discovered that the data set is already in a tidy format. But when we plotted the data using histograms, we found that the populations are heavily right-skewed. Hence, we decided to use the median, rather than the mean, to summarize the data. Because compared to the mean, the median is more robust to outliers.\n",
    "\n",
    "Thirdly, we compared the asymptotic method (Central Limit Theorem) and bootstrapping by calculating the confidence interval capture rate. Both methods had high capture rates, between 90% to 100%. So we can conclude that both methods are appropriate. But the capture rate of the asymptotic method was slightly higher than the capture rate of bootstrapping. Yet, we cannot conclude that CLT is strictly better than bootstrapping because the difference was quite small, and the performance of bootstrapping can be affected by the randomness of the simple random sample from the population.\n",
    "\n",
    "Finally, after proposing the H0 and HA of our hypothesis test, we generated 1000 samples and calculated their medians and their 90% confidence intervals. After that, we calculated the means of sample medians, 218309.1 for 2010/2011 data and 208488.1 for 2020/2021 data. Then, we constructed 90% confidence intervals, [217879.8,218738.3] for 2010/2011 data and [207939.3,209037] for 2020/2021 data. Therefore, we rejected H0 since these two confidence intervals did not overlap. \n",
    "\n",
    "The outcomes were as expected since we thought there might be a difference in MSP payments due to the scale of the pandemic as well as many other confounding factors, like policies or the fiscal situation of the BC government. This study can lead to future research on identifying the factors such as the number of patients for each doctor, gender, educational level, etc. However, maybe due to the privacy concern, the official site provided limited information to the public."
   ]
  },
  {
   "cell_type": "markdown",
   "id": "sealed-shanghai",
   "metadata": {},
   "source": [
    "## References"
   ]
  },
  {
   "cell_type": "markdown",
   "id": "exceptional-heading",
   "metadata": {},
   "source": [
    "Barer, M. L., Pulcins, I. R., Evans, R. G., Hertzman, C., Lomas, J., & Anderson, G. M. (1989). Trends in use of medical services by the elderly in British Columbia. CMAJ: Canadian Medical Association Journal, 141(1), 39.\n",
    "Compensation Policy and Programs. (2022, February 8). MSP Blue Book . Retrieved February 21, 2022, from https://catalogue.data.gov.bc.ca/dataset/c7413d9f-112e-4a26-bbd1-ae2711856629.\n",
    "\n",
    "G, K., Steinmetz, S., & de Vries, D. H. (2014, April 23). Should I stay or should I go? The impact of working time and wages on retention in the health workforce - Human Resources for Health. Human Resources for Health. Retrieved March 5, 2022, from https://human-resources-health.biomedcentral.com/articles/10.1186/1478-4491-12-23\n",
    "\n",
    "Ministry of Health. (2021, July 29). Medical services plan. Province of British Columbia. Retrieved February 22, 2022, from https://www2.gov.bc.ca/gov/content/health/practitioner-professional-resources/msp\n",
    "\n",
    "Wranik, D. W., & Durier-Copp, M. (2010). Physician remuneration methods for family physicians in Canada: expected outcomes and lessons learned. Health Care Analysis, 18(1), 35-59."
   ]
  }
 ],
 "metadata": {
  "kernelspec": {
   "display_name": "R",
   "language": "R",
   "name": "ir"
  },
  "language_info": {
   "codemirror_mode": "r",
   "file_extension": ".r",
   "mimetype": "text/x-r-source",
   "name": "R",
   "pygments_lexer": "r",
   "version": "4.1.2"
  }
 },
 "nbformat": 4,
 "nbformat_minor": 5
}
