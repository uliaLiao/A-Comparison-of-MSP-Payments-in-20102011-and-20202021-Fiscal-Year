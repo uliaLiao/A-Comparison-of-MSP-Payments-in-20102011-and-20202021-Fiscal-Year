{
 "cells": [
  {
   "cell_type": "markdown",
   "id": "agreed-enlargement",
   "metadata": {},
   "source": [
    "# A Comparison of MSP Payments in 2010/2011 and 2020/2021 Fiscal Year"
   ]
  },
  {
   "cell_type": "markdown",
   "id": "concerned-cover",
   "metadata": {},
   "source": [
    "## Introduction"
   ]
  },
  {
   "cell_type": "markdown",
   "id": "lovely-coaching",
   "metadata": {},
   "source": [
    "In Canada, public health insurance is available to eligible residents. Canadian citizens and permanent residents can apply for provincial health insurance. In British Columbia, public health insurance is called Medical Services Plan (MSP). It covers the cost of medically-necessary insured doctor services (Ministry of Health, 2021). \n",
    "\n",
    "BC Medical Services Plan's (MSP) annual financial statements include a detailed listing of total annual payments to all practitioners and organizations ((Compensation Policy and Programs, 2022). \n",
    "The data is obtained from BC government website. The first column “Payments to Practitioners” refers to the names of enrolled medical practitioners. The second column “Amount” refers to the amount of money (in CAD) paid by the MSP program. The third column “Fiscal Year” refers to the year of payments. The dataset covers the payments from 2010-11 to 2020-21 (Compensation Policy and Programs, 2022).\n",
    "\n",
    "According to data from the BC government website, the total annual payments to all practitioners and organizations in British Columbia may be increased over the study period. This can be factored into increases attributable to changes in the age structure of the population, general population growth and age-specific increases in per-capita use (Barer et al., 1989). Our objective is to compare the BC Medical Services Plan’s  (MSP) annual financial payment in 2010/2011 and 2020/2021 Fiscal Year. We will use the mean value of the total amount in 2010/11 and 2020/21 to make a comparison. In addition, the scale parameter of standard deviation can show how to spread out."
   ]
  },
  {
   "cell_type": "markdown",
   "id": "consistent-content",
   "metadata": {},
   "source": [
    "## Preliminary Results"
   ]
  },
  {
   "cell_type": "markdown",
   "id": "administrative-roommate",
   "metadata": {},
   "source": [
    "Before getting started with our data, we run the next code block to load the packages we need."
   ]
  },
  {
   "cell_type": "code",
   "execution_count": 1,
   "id": "polished-kitty",
   "metadata": {
    "scrolled": true
   },
   "outputs": [
    {
     "name": "stderr",
     "output_type": "stream",
     "text": [
      "── \u001b[1mAttaching packages\u001b[22m ─────────────────────────────────────── tidyverse 1.3.0 ──\n",
      "\n",
      "\u001b[32m✔\u001b[39m \u001b[34mggplot2\u001b[39m 3.3.3     \u001b[32m✔\u001b[39m \u001b[34mpurrr  \u001b[39m 0.3.4\n",
      "\u001b[32m✔\u001b[39m \u001b[34mtibble \u001b[39m 3.0.6     \u001b[32m✔\u001b[39m \u001b[34mdplyr  \u001b[39m 1.0.4\n",
      "\u001b[32m✔\u001b[39m \u001b[34mtidyr  \u001b[39m 1.1.2     \u001b[32m✔\u001b[39m \u001b[34mstringr\u001b[39m 1.4.0\n",
      "\u001b[32m✔\u001b[39m \u001b[34mreadr  \u001b[39m 1.4.0     \u001b[32m✔\u001b[39m \u001b[34mforcats\u001b[39m 0.5.1\n",
      "\n",
      "── \u001b[1mConflicts\u001b[22m ────────────────────────────────────────── tidyverse_conflicts() ──\n",
      "\u001b[31m✖\u001b[39m \u001b[34mdplyr\u001b[39m::\u001b[32mfilter()\u001b[39m masks \u001b[34mstats\u001b[39m::filter()\n",
      "\u001b[31m✖\u001b[39m \u001b[34mdplyr\u001b[39m::\u001b[32mlag()\u001b[39m    masks \u001b[34mstats\u001b[39m::lag()\n",
      "\n"
     ]
    }
   ],
   "source": [
    "# Run this cell before continuing.\n",
    "library(cowplot)\n",
    "library(datateachr)\n",
    "library(infer)\n",
    "library(repr)\n",
    "library(tidyverse)"
   ]
  },
  {
   "cell_type": "markdown",
   "id": "differential-analysis",
   "metadata": {},
   "source": [
    "Firstly, we read our data using `read_csv()`. To make sure that our data is tidy, we rename two columnn names before filtering out some rows that are summarizing data."
   ]
  },
  {
   "cell_type": "code",
   "execution_count": 2,
   "id": "alone-nursery",
   "metadata": {},
   "outputs": [
    {
     "name": "stderr",
     "output_type": "stream",
     "text": [
      "\n",
      "\u001b[36m──\u001b[39m \u001b[1m\u001b[1mColumn specification\u001b[1m\u001b[22m \u001b[36m────────────────────────────────────────────────────────\u001b[39m\n",
      "cols(\n",
      "  `Payments to Practitioners` = \u001b[31mcol_character()\u001b[39m,\n",
      "  Amount = \u001b[32mcol_number()\u001b[39m,\n",
      "  `Fiscal Year` = \u001b[31mcol_character()\u001b[39m\n",
      ")\n",
      "\n",
      "\n"
     ]
    },
    {
     "data": {
      "text/html": [
       "<table class=\"dataframe\">\n",
       "<caption>A tibble: 6 × 3</caption>\n",
       "<thead>\n",
       "\t<tr><th scope=col>Payments_to_Practitoners</th><th scope=col>Amount</th><th scope=col>Fiscal_Year</th></tr>\n",
       "\t<tr><th scope=col>&lt;chr&gt;</th><th scope=col>&lt;dbl&gt;</th><th scope=col>&lt;chr&gt;</th></tr>\n",
       "</thead>\n",
       "<tbody>\n",
       "\t<tr><td>Aartsma, Durk Pieter     </td><td>265138.74</td><td>2020/2021</td></tr>\n",
       "\t<tr><td>Abayomi, Michael Ayotunde</td><td>557779.95</td><td>2020/2021</td></tr>\n",
       "\t<tr><td>Abbas, Wea'am            </td><td> 95487.34</td><td>2020/2021</td></tr>\n",
       "\t<tr><td>Abbey, Mark Douglas      </td><td> 96681.08</td><td>2020/2021</td></tr>\n",
       "\t<tr><td>Abbott, Breanne          </td><td>352280.26</td><td>2020/2021</td></tr>\n",
       "\t<tr><td>Abbott, Salome           </td><td>166357.84</td><td>2020/2021</td></tr>\n",
       "</tbody>\n",
       "</table>\n"
      ],
      "text/latex": [
       "A tibble: 6 × 3\n",
       "\\begin{tabular}{lll}\n",
       " Payments\\_to\\_Practitoners & Amount & Fiscal\\_Year\\\\\n",
       " <chr> & <dbl> & <chr>\\\\\n",
       "\\hline\n",
       "\t Aartsma, Durk Pieter      & 265138.74 & 2020/2021\\\\\n",
       "\t Abayomi, Michael Ayotunde & 557779.95 & 2020/2021\\\\\n",
       "\t Abbas, Wea'am             &  95487.34 & 2020/2021\\\\\n",
       "\t Abbey, Mark Douglas       &  96681.08 & 2020/2021\\\\\n",
       "\t Abbott, Breanne           & 352280.26 & 2020/2021\\\\\n",
       "\t Abbott, Salome            & 166357.84 & 2020/2021\\\\\n",
       "\\end{tabular}\n"
      ],
      "text/markdown": [
       "\n",
       "A tibble: 6 × 3\n",
       "\n",
       "| Payments_to_Practitoners &lt;chr&gt; | Amount &lt;dbl&gt; | Fiscal_Year &lt;chr&gt; |\n",
       "|---|---|---|\n",
       "| Aartsma, Durk Pieter      | 265138.74 | 2020/2021 |\n",
       "| Abayomi, Michael Ayotunde | 557779.95 | 2020/2021 |\n",
       "| Abbas, Wea'am             |  95487.34 | 2020/2021 |\n",
       "| Abbey, Mark Douglas       |  96681.08 | 2020/2021 |\n",
       "| Abbott, Breanne           | 352280.26 | 2020/2021 |\n",
       "| Abbott, Salome            | 166357.84 | 2020/2021 |\n",
       "\n"
      ],
      "text/plain": [
       "  Payments_to_Practitoners  Amount    Fiscal_Year\n",
       "1 Aartsma, Durk Pieter      265138.74 2020/2021  \n",
       "2 Abayomi, Michael Ayotunde 557779.95 2020/2021  \n",
       "3 Abbas, Wea'am              95487.34 2020/2021  \n",
       "4 Abbey, Mark Douglas        96681.08 2020/2021  \n",
       "5 Abbott, Breanne           352280.26 2020/2021  \n",
       "6 Abbott, Salome            166357.84 2020/2021  "
      ]
     },
     "metadata": {},
     "output_type": "display_data"
    }
   ],
   "source": [
    "msp_data <- read_csv(\"data/msp_data.csv\") %>%\n",
    "    rename(\"Fiscal_Year\" = \"Fiscal Year\", \"Payments_to_Practitoners\" = \"Payments to Practitioners\") %>%\n",
    "    filter(!grepl(\"Total Expenditures|Out of Province Payments|Reciprocal Agreements Recoveries|Under Threshold\", \n",
    "             Payments_to_Practitoners, ignore.case = TRUE))\n",
    "head(msp_data)"
   ]
  },
  {
   "cell_type": "markdown",
   "id": "brazilian-chase",
   "metadata": {},
   "source": [
    "Next, since we are evaluating MSP Payments in 2010/2011 and 2020/2021 Fiscal Year, now we will make two subsets of these two years' data with column `Amount` and `Fiscal_Year` respectively using `filter()` and `select()`."
   ]
  },
  {
   "cell_type": "code",
   "execution_count": 3,
   "id": "stylish-peripheral",
   "metadata": {},
   "outputs": [
    {
     "data": {
      "text/html": [
       "<table class=\"dataframe\">\n",
       "<caption>A tibble: 6 × 2</caption>\n",
       "<thead>\n",
       "\t<tr><th scope=col>Amount</th><th scope=col>Fiscal_Year</th></tr>\n",
       "\t<tr><th scope=col>&lt;dbl&gt;</th><th scope=col>&lt;chr&gt;</th></tr>\n",
       "</thead>\n",
       "<tbody>\n",
       "\t<tr><td>166795.05</td><td>2010/2011</td></tr>\n",
       "\t<tr><td>158640.24</td><td>2010/2011</td></tr>\n",
       "\t<tr><td>253671.34</td><td>2010/2011</td></tr>\n",
       "\t<tr><td> 39453.09</td><td>2010/2011</td></tr>\n",
       "\t<tr><td>665578.29</td><td>2010/2011</td></tr>\n",
       "\t<tr><td>159894.54</td><td>2010/2011</td></tr>\n",
       "</tbody>\n",
       "</table>\n"
      ],
      "text/latex": [
       "A tibble: 6 × 2\n",
       "\\begin{tabular}{ll}\n",
       " Amount & Fiscal\\_Year\\\\\n",
       " <dbl> & <chr>\\\\\n",
       "\\hline\n",
       "\t 166795.05 & 2010/2011\\\\\n",
       "\t 158640.24 & 2010/2011\\\\\n",
       "\t 253671.34 & 2010/2011\\\\\n",
       "\t  39453.09 & 2010/2011\\\\\n",
       "\t 665578.29 & 2010/2011\\\\\n",
       "\t 159894.54 & 2010/2011\\\\\n",
       "\\end{tabular}\n"
      ],
      "text/markdown": [
       "\n",
       "A tibble: 6 × 2\n",
       "\n",
       "| Amount &lt;dbl&gt; | Fiscal_Year &lt;chr&gt; |\n",
       "|---|---|\n",
       "| 166795.05 | 2010/2011 |\n",
       "| 158640.24 | 2010/2011 |\n",
       "| 253671.34 | 2010/2011 |\n",
       "|  39453.09 | 2010/2011 |\n",
       "| 665578.29 | 2010/2011 |\n",
       "| 159894.54 | 2010/2011 |\n",
       "\n"
      ],
      "text/plain": [
       "  Amount    Fiscal_Year\n",
       "1 166795.05 2010/2011  \n",
       "2 158640.24 2010/2011  \n",
       "3 253671.34 2010/2011  \n",
       "4  39453.09 2010/2011  \n",
       "5 665578.29 2010/2011  \n",
       "6 159894.54 2010/2011  "
      ]
     },
     "metadata": {},
     "output_type": "display_data"
    },
    {
     "data": {
      "text/html": [
       "<table class=\"dataframe\">\n",
       "<caption>A tibble: 6 × 2</caption>\n",
       "<thead>\n",
       "\t<tr><th scope=col>Amount</th><th scope=col>Fiscal_Year</th></tr>\n",
       "\t<tr><th scope=col>&lt;dbl&gt;</th><th scope=col>&lt;chr&gt;</th></tr>\n",
       "</thead>\n",
       "<tbody>\n",
       "\t<tr><td>265138.74</td><td>2020/2021</td></tr>\n",
       "\t<tr><td>557779.95</td><td>2020/2021</td></tr>\n",
       "\t<tr><td> 95487.34</td><td>2020/2021</td></tr>\n",
       "\t<tr><td> 96681.08</td><td>2020/2021</td></tr>\n",
       "\t<tr><td>352280.26</td><td>2020/2021</td></tr>\n",
       "\t<tr><td>166357.84</td><td>2020/2021</td></tr>\n",
       "</tbody>\n",
       "</table>\n"
      ],
      "text/latex": [
       "A tibble: 6 × 2\n",
       "\\begin{tabular}{ll}\n",
       " Amount & Fiscal\\_Year\\\\\n",
       " <dbl> & <chr>\\\\\n",
       "\\hline\n",
       "\t 265138.74 & 2020/2021\\\\\n",
       "\t 557779.95 & 2020/2021\\\\\n",
       "\t  95487.34 & 2020/2021\\\\\n",
       "\t  96681.08 & 2020/2021\\\\\n",
       "\t 352280.26 & 2020/2021\\\\\n",
       "\t 166357.84 & 2020/2021\\\\\n",
       "\\end{tabular}\n"
      ],
      "text/markdown": [
       "\n",
       "A tibble: 6 × 2\n",
       "\n",
       "| Amount &lt;dbl&gt; | Fiscal_Year &lt;chr&gt; |\n",
       "|---|---|\n",
       "| 265138.74 | 2020/2021 |\n",
       "| 557779.95 | 2020/2021 |\n",
       "|  95487.34 | 2020/2021 |\n",
       "|  96681.08 | 2020/2021 |\n",
       "| 352280.26 | 2020/2021 |\n",
       "| 166357.84 | 2020/2021 |\n",
       "\n"
      ],
      "text/plain": [
       "  Amount    Fiscal_Year\n",
       "1 265138.74 2020/2021  \n",
       "2 557779.95 2020/2021  \n",
       "3  95487.34 2020/2021  \n",
       "4  96681.08 2020/2021  \n",
       "5 352280.26 2020/2021  \n",
       "6 166357.84 2020/2021  "
      ]
     },
     "metadata": {},
     "output_type": "display_data"
    }
   ],
   "source": [
    "msp_2010 <- msp_data %>% \n",
    "filter(Fiscal_Year == \"2010/2011\") %>% \n",
    "select(Amount, Fiscal_Year)\n",
    "head(msp_2010)\n",
    "msp_2020 <- msp_data %>% \n",
    "filter(Fiscal_Year == \"2020/2021\") %>% \n",
    "select(Amount, Fiscal_Year)\n",
    "head(msp_2020)"
   ]
  },
  {
   "cell_type": "markdown",
   "id": "three-danger",
   "metadata": {},
   "source": [
    "Then, we make histogram plots of these two subsets. Since we are comparing payments in this project, we will use `scale_x_continuous(labels = scales::dollar_format(), limits = c(0, 1000000)) ` to only plot the data that has the amount between 0 and 1,000,000."
   ]
  },
  {
   "cell_type": "code",
   "execution_count": 4,
   "id": "different-colonial",
   "metadata": {},
   "outputs": [
    {
     "name": "stderr",
     "output_type": "stream",
     "text": [
      "Warning message:\n",
      "“Removed 163 rows containing non-finite values (stat_bin).”\n",
      "Warning message:\n",
      "“Removed 2 rows containing missing values (geom_bar).”\n"
     ]
    },
    {
     "data": {
      "image/png": "[encoded data removed]",
      "text/plain": [
       "plot without title"
      ]
     },
     "metadata": {
      "image/png": {
       "height": 420,
       "width": 420
      }
     },
     "output_type": "display_data"
    }
   ],
   "source": [
    "msp_2010_plot <- msp_2010 %>%\n",
    "ggplot(aes(x = Amount)) + \n",
    "    geom_histogram(binwidth = 10000) +\n",
    "    labs(x = \"MSP annual payments (CAD)\", y = \"Frequency\") +\n",
    "    ggtitle(\"The distribution of annual MSP payments in 2010/2011 fiscal year\") +\n",
    "    scale_x_continuous(labels = scales::dollar_format(), limits = c(0, 1000000)) \n",
    "msp_2010_plot"
   ]
  },
  {
   "cell_type": "code",
   "execution_count": 5,
   "id": "speaking-technical",
   "metadata": {
    "scrolled": true
   },
   "outputs": [
    {
     "name": "stderr",
     "output_type": "stream",
     "text": [
      "Warning message:\n",
      "“Removed 262 rows containing non-finite values (stat_bin).”\n",
      "Warning message:\n",
      "“Removed 2 rows containing missing values (geom_bar).”\n"
     ]
    },
    {
     "data": {
      "image/png": "[encoded data removed]",
      "text/plain": [
       "plot without title"
      ]
     },
     "metadata": {
      "image/png": {
       "height": 420,
       "width": 420
      }
     },
     "output_type": "display_data"
    }
   ],
   "source": [
    "msp_2020_plot <- msp_2020 %>%\n",
    "ggplot(aes(x = Amount)) + \n",
    "    geom_histogram(binwidth = 10000) +\n",
    "    labs(x = \"MSP annual payments (CAD)\", y = \"Frequency\") +\n",
    "    ggtitle(\"The distribution of annual MSP payments in 2020/2021 fiscal year\") +\n",
    "    scale_x_continuous(labels = scales::dollar_format(), limits = c(0, 1000000)) \n",
    "msp_2020_plot"
   ]
  },
  {
   "cell_type": "markdown",
   "id": "czech-share",
   "metadata": {},
   "source": [
    "To get a better idea of the data, we use `summary()` to get some statistics about these two subsets and and the `mean` value to the plots we create above."
   ]
  },
  {
   "cell_type": "code",
   "execution_count": 6,
   "id": "complete-dodge",
   "metadata": {},
   "outputs": [
    {
     "data": {
      "text/plain": [
       "     Min.   1st Qu.    Median      Mean   3rd Qu.      Max. \n",
       "    25025    103890    219770    372321    353332 176040137 "
      ]
     },
     "metadata": {},
     "output_type": "display_data"
    }
   ],
   "source": [
    "summary(msp_2010$Amount)"
   ]
  },
  {
   "cell_type": "code",
   "execution_count": 7,
   "id": "rental-yugoslavia",
   "metadata": {},
   "outputs": [
    {
     "data": {
      "text/plain": [
       "     Min.   1st Qu.    Median      Mean   3rd Qu.      Max. \n",
       "-30423700     98383    215275    418224    370381 273985446 "
      ]
     },
     "metadata": {},
     "output_type": "display_data"
    }
   ],
   "source": [
    "summary(msp_2020$Amount)"
   ]
  },
  {
   "cell_type": "code",
   "execution_count": 8,
   "id": "rational-title",
   "metadata": {},
   "outputs": [
    {
     "name": "stderr",
     "output_type": "stream",
     "text": [
      "Warning message:\n",
      "“Removed 163 rows containing non-finite values (stat_bin).”\n",
      "Warning message:\n",
      "“Removed 2 rows containing missing values (geom_bar).”\n"
     ]
    },
    {
     "data": {
      "image/png": "[encoded data removed]",
      "text/plain": [
       "plot without title"
      ]
     },
     "metadata": {
      "image/png": {
       "height": 420,
       "width": 420
      }
     },
     "output_type": "display_data"
    }
   ],
   "source": [
    "msp_2010_plot + geom_vline(xintercept = mean(msp_2010$Amount))"
   ]
  },
  {
   "cell_type": "code",
   "execution_count": 9,
   "id": "phantom-investigation",
   "metadata": {
    "scrolled": true
   },
   "outputs": [
    {
     "name": "stderr",
     "output_type": "stream",
     "text": [
      "Warning message:\n",
      "“Removed 262 rows containing non-finite values (stat_bin).”\n",
      "Warning message:\n",
      "“Removed 2 rows containing missing values (geom_bar).”\n"
     ]
    },
    {
     "data": {
      "image/png": "[encoded data removed]",
      "text/plain": [
       "plot without title"
      ]
     },
     "metadata": {
      "image/png": {
       "height": 420,
       "width": 420
      }
     },
     "output_type": "display_data"
    }
   ],
   "source": [
    "msp_2020_plot + geom_vline(xintercept = mean(msp_2020$Amount))"
   ]
  },
  {
   "cell_type": "markdown",
   "id": "international-diabetes",
   "metadata": {},
   "source": [
    "## Methods: Plan"
   ]
  },
  {
   "cell_type": "markdown",
   "id": "center-graduate",
   "metadata": {},
   "source": [
    "### Expected Outcomes\n",
    "We will take a simple random sample of  from the dataset of the time 2010/2011 and 2020/2021. Then we estimate the mean of payment for both time periods and construct confidence interval. After that, we will compare the estimates to the true parameters of the population and discuss whether our samples are representative.\n",
    "Additionally, we compare the bootstrapping and asymptotics method using the samples above. \n",
    "We also want to find out whether the MSP payments to practitioners has changed from 2010/2011 to 2020/2021 by conducting a two-sided hypothesis test. \n",
    "\n",
    "### Impact of findings\n",
    "We will find out whether the medical practitioners recieved more or less money from the MSP program. Do they get more paid or less paid from the MSP program during the pandemic? \n",
    "\n",
    "### Future questions\n",
    "Information from the dataset is quite limited, only with names, payments, and time. Hence, we cannot make further analysis regarding other factors, for example, ages, genders, areas of expertise, etc. We will discuss this in details in the final report.\n"
   ]
  },
  {
   "cell_type": "markdown",
   "id": "sealed-shanghai",
   "metadata": {},
   "source": [
    "## References"
   ]
  },
  {
   "cell_type": "markdown",
   "id": "exceptional-heading",
   "metadata": {},
   "source": [
    "Barer, M. L., Pulcins, I. R., Evans, R. G., Hertzman, C., Lomas, J., & Anderson, G. M. (1989). Trends in use of medical services by the elderly in British Columbia. CMAJ: Canadian Medical Association Journal, 141(1), 39.\n",
    "Compensation Policy and Programs. (2022, February 8). MSP Blue Book . Retrieved February 21, 2022, from https://catalogue.data.gov.bc.ca/dataset/c7413d9f-112e-4a26-bbd1-ae2711856629.\n",
    "\n",
    "G, K., Steinmetz, S., & de Vries, D. H. (2014, April 23). Should I stay or should I go? The impact of working time and wages on retention in the health workforce - Human Resources for Health. Human Resources for Health. Retrieved March 5, 2022, from https://human-resources-health.biomedcentral.com/articles/10.1186/1478-4491-12-23\n",
    "\n",
    "Ministry of Health. (2021, July 29). Medical services plan. Province of British Columbia. Retrieved February 22, 2022, from https://www2.gov.bc.ca/gov/content/health/practitioner-professional-resources/msp\n",
    "\n",
    "Wranik, D. W., & Durier-Copp, M. (2010). Physician remuneration methods for family physicians in Canada: expected outcomes and lessons learned. Health Care Analysis, 18(1), 35-59."
   ]
  }
 ],
 "metadata": {
  "kernelspec": {
   "display_name": "R",
   "language": "R",
   "name": "ir"
  },
  "language_info": {
   "codemirror_mode": "r",
   "file_extension": ".r",
   "mimetype": "text/x-r-source",
   "name": "R",
   "pygments_lexer": "r",
   "version": "4.0.3"
  }
 },
 "nbformat": 4,
 "nbformat_minor": 5
}
